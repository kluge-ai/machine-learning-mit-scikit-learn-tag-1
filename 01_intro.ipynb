{
 "cells": [
  {
   "cell_type": "markdown",
   "id": "3b58f632cc8bb3ac",
   "metadata": {
    "collapsed": false
   },
   "source": [
    "# Einstieg"
   ]
  },
  {
   "cell_type": "markdown",
   "id": "26f572d6aef42421",
   "metadata": {
    "collapsed": false
   },
   "source": [
    "## Abhängigkeiten installieren"
   ]
  },
  {
   "cell_type": "code",
   "execution_count": null,
   "id": "7e86f545c0943688",
   "metadata": {
    "ExecuteTime": {
     "end_time": "2023-11-28T09:31:16.108876249Z",
     "start_time": "2023-11-28T09:31:14.044477477Z"
    }
   },
   "outputs": [],
   "source": [
    "%pip install -r requirements.txt"
   ]
  },
  {
   "cell_type": "markdown",
   "id": "18b200e87c63f5e1",
   "metadata": {
    "collapsed": false
   },
   "source": [
    "## Aufgabe 1: Aufwärmen mit Numpy und Matplotlib"
   ]
  },
  {
   "cell_type": "code",
   "execution_count": null,
   "id": "941346330a3be9e",
   "metadata": {
    "ExecuteTime": {
     "end_time": "2023-11-28T09:31:22.070048808Z",
     "start_time": "2023-11-28T09:31:22.042808892Z"
    }
   },
   "outputs": [],
   "source": [
    "import numpy as np"
   ]
  },
  {
   "cell_type": "markdown",
   "id": "e47737b3cbcf2eb9",
   "metadata": {
    "collapsed": false
   },
   "source": [
    "A) Lade mit `np.loadtxt()` die Daten in der Datei `01_daten_x.txt` in eine Variable `x` "
   ]
  },
  {
   "cell_type": "code",
   "execution_count": null,
   "id": "4e5c0f2671403544",
   "metadata": {},
   "outputs": [],
   "source": []
  },
  {
   "cell_type": "markdown",
   "id": "ba785ba00b5e91c9",
   "metadata": {
    "collapsed": false
   },
   "source": [
    "B) Wie viele Zeilen und Spalten hat das geladene Array?"
   ]
  },
  {
   "cell_type": "code",
   "execution_count": null,
   "id": "919797b5f1569f4e",
   "metadata": {
    "ExecuteTime": {
     "end_time": "2023-11-28T09:53:39.878710471Z",
     "start_time": "2023-11-28T09:53:39.831871630Z"
    }
   },
   "outputs": [],
   "source": []
  },
  {
   "cell_type": "markdown",
   "id": "31e83ee67a4d970b",
   "metadata": {
    "collapsed": false
   },
   "source": [
    "C) Wie unterscheidet sich die Verteilung der Werte in der ersten, zweiten und dritten Spalte voneinander? Errechen hierzu den Durchschnitt und die Standardabweichung pro Spalte."
   ]
  },
  {
   "cell_type": "code",
   "execution_count": null,
   "id": "1e4aaf970dd28e5",
   "metadata": {},
   "outputs": [],
   "source": []
  },
  {
   "cell_type": "markdown",
   "id": "160f77f0a1183f1e",
   "metadata": {
    "collapsed": false
   },
   "source": [
    "D) Lade mit `np.loadtxt()` die Daten in der Datei `01_daten_y.txt` in eine Variable `y`"
   ]
  },
  {
   "cell_type": "code",
   "execution_count": null,
   "id": "9c74da5aa1deeb5",
   "metadata": {},
   "outputs": [],
   "source": []
  },
  {
   "cell_type": "markdown",
   "id": "ce8ffbadcf08f024",
   "metadata": {
    "collapsed": false
   },
   "source": [
    "E) Was sind die minimalen und maximalen Werte in `y`?"
   ]
  },
  {
   "cell_type": "code",
   "execution_count": null,
   "id": "f23059544c219a97",
   "metadata": {
    "ExecuteTime": {
     "end_time": "2023-11-28T09:59:59.052807703Z",
     "start_time": "2023-11-28T09:59:59.017644783Z"
    }
   },
   "outputs": [],
   "source": []
  },
  {
   "cell_type": "markdown",
   "id": "12e7b0e14d5394fe",
   "metadata": {
    "collapsed": false
   },
   "source": [
    "F) Erstelle mit `plt.hist()` ein Histogramm der Werte in y"
   ]
  },
  {
   "cell_type": "markdown",
   "id": "e0b8940291ff0744",
   "metadata": {
    "collapsed": false
   },
   "source": []
  },
  {
   "cell_type": "code",
   "execution_count": null,
   "id": "6dadd88ca7771621",
   "metadata": {
    "ExecuteTime": {
     "end_time": "2023-11-28T10:01:04.753944963Z",
     "start_time": "2023-11-28T10:01:04.728840886Z"
    }
   },
   "outputs": [],
   "source": [
    "import matplotlib.pyplot as plt"
   ]
  },
  {
   "cell_type": "code",
   "execution_count": null,
   "id": "8ed67fb4a53186a0",
   "metadata": {},
   "outputs": [],
   "source": []
  },
  {
   "cell_type": "markdown",
   "id": "9503011181a31054",
   "metadata": {
    "collapsed": false
   },
   "source": [
    "G) Wie sind die Werte in den Spalten von `x` mit den Werten in `y` korreliert?\n",
    "\n",
    "Erstelle hierzu einen Plot mit Legende und Achsenbeschriftungen."
   ]
  },
  {
   "cell_type": "code",
   "execution_count": null,
   "id": "eeefcce7c85b1757",
   "metadata": {
    "ExecuteTime": {
     "end_time": "2023-11-28T09:59:59.707803446Z",
     "start_time": "2023-11-28T09:59:59.666782298Z"
    }
   },
   "outputs": [],
   "source": []
  },
  {
   "cell_type": "markdown",
   "id": "2a93a7e024bb1f64",
   "metadata": {
    "collapsed": false
   },
   "source": [
    "## Aufgabe 2: Pandas und ein bisschen Mathematik"
   ]
  },
  {
   "cell_type": "code",
   "execution_count": null,
   "id": "800c00d5d298e685",
   "metadata": {
    "ExecuteTime": {
     "end_time": "2023-11-28T10:04:08.365246636Z",
     "start_time": "2023-11-28T10:04:08.179414740Z"
    }
   },
   "outputs": [],
   "source": [
    "import pandas as pd"
   ]
  },
  {
   "cell_type": "markdown",
   "id": "4d183df37fe2f15d",
   "metadata": {
    "collapsed": false
   },
   "source": [
    "A) Lade mit `pd.read_json()` den Dataframe aus der Datei `01_dataframe.json` in eine Variable `df`"
   ]
  },
  {
   "cell_type": "code",
   "execution_count": null,
   "id": "fe2e4c1b75794a47",
   "metadata": {
    "ExecuteTime": {
     "end_time": "2023-11-28T10:10:09.553257438Z",
     "start_time": "2023-11-28T10:10:09.507339664Z"
    }
   },
   "outputs": [],
   "source": []
  },
  {
   "cell_type": "markdown",
   "id": "8e0d4b49cb7d6997",
   "metadata": {
    "collapsed": false
   },
   "source": [
    "B) Wie viele und welche Spalten sind in `df` enthalten? Welche Datentypen haben sie?"
   ]
  },
  {
   "cell_type": "code",
   "execution_count": null,
   "id": "cc98545cb59b40b6",
   "metadata": {
    "ExecuteTime": {
     "end_time": "2023-11-28T10:10:26.367438413Z",
     "start_time": "2023-11-28T10:10:26.283501437Z"
    }
   },
   "outputs": [],
   "source": []
  },
  {
   "cell_type": "markdown",
   "id": "ea2fbc6f0fccbe10",
   "metadata": {
    "collapsed": false
   },
   "source": [
    "C) Welche möglichen Werte nimmt die einzige kategorische Variable im Datensatz an?"
   ]
  },
  {
   "cell_type": "code",
   "execution_count": null,
   "id": "9fe53ea6e00099bb",
   "metadata": {},
   "outputs": [],
   "source": []
  },
  {
   "cell_type": "markdown",
   "id": "a50186f1d7599f6d",
   "metadata": {
    "collapsed": false
   },
   "source": [
    "D) Welcher Zusammenhang besteht zwischen den Werten in Spalte `D` und `E`?\n",
    "\n",
    "Bonus: Erzeuge aus `D` eine neue Spalte `H`, die identisch zu `E` ist."
   ]
  },
  {
   "cell_type": "code",
   "execution_count": null,
   "id": "5282bd40b64042c4",
   "metadata": {
    "ExecuteTime": {
     "end_time": "2023-11-28T10:20:47.932278011Z",
     "start_time": "2023-11-28T10:20:47.867638337Z"
    }
   },
   "outputs": [],
   "source": []
  },
  {
   "cell_type": "markdown",
   "id": "f662d214969c1712",
   "metadata": {
    "collapsed": false
   },
   "source": [
    "E) Die Spalten `B`, `D` und `G` sind ebenfalls miteinander korreliert. Wie?\n",
    "\n",
    "Erstelle hierzu zunächst eine Figure mit `plt.subplots()`, in der jede der möglichen Kombinationen in einem eigenen Sub-Plot dargestellt wird.\n",
    "\n",
    "Tipp: Mit `fig.set_figheight()` und `fig.set_figwidth()` kannst du dir den nötigen Platz schaffen."
   ]
  },
  {
   "cell_type": "code",
   "execution_count": null,
   "id": "96964a9f26c7e9b4",
   "metadata": {},
   "outputs": [],
   "source": []
  },
  {
   "cell_type": "markdown",
   "id": "a2bf72ac4a9bf883",
   "metadata": {
    "collapsed": false
   },
   "source": [
    "F) Welcher Zusammenhang besteht zwischen `A` und `C`?"
   ]
  },
  {
   "cell_type": "code",
   "execution_count": null,
   "id": "34bbf3328b1b3cab",
   "metadata": {},
   "outputs": [],
   "source": []
  }
 ],
 "metadata": {
  "kernelspec": {
   "display_name": "Python 3",
   "language": "python",
   "name": "python3"
  },
  "language_info": {
   "codemirror_mode": {
    "name": "ipython",
    "version": 2
   },
   "file_extension": ".py",
   "mimetype": "text/x-python",
   "name": "python",
   "nbconvert_exporter": "python",
   "pygments_lexer": "ipython2",
   "version": "2.7.6"
  }
 },
 "nbformat": 4,
 "nbformat_minor": 5
}
