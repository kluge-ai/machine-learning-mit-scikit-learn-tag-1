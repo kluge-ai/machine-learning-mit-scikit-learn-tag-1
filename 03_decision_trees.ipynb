{
 "cells": [
  {
   "cell_type": "markdown",
   "id": "ec5b696428cc2bcb",
   "metadata": {
    "collapsed": false
   },
   "source": [
    "# Klassifikation mit Decision Trees"
   ]
  },
  {
   "cell_type": "markdown",
   "id": "1e632042ebdef426",
   "metadata": {
    "collapsed": false
   },
   "source": [
    "## Datensatz erzeugen"
   ]
  },
  {
   "cell_type": "code",
   "execution_count": null,
   "id": "initial_id",
   "metadata": {
    "ExecuteTime": {
     "end_time": "2023-11-28T11:43:46.901064780Z",
     "start_time": "2023-11-28T11:43:46.333383513Z"
    }
   },
   "outputs": [],
   "source": [
    "from sklearn import datasets"
   ]
  },
  {
   "cell_type": "code",
   "execution_count": null,
   "id": "ad58423ecac8f07e",
   "metadata": {
    "ExecuteTime": {
     "end_time": "2023-11-28T11:43:46.941990455Z",
     "start_time": "2023-11-28T11:43:46.941653191Z"
    }
   },
   "outputs": [],
   "source": [
    "x, y = datasets.make_moons(500, noise=0.1)"
   ]
  },
  {
   "cell_type": "code",
   "execution_count": null,
   "id": "ad6975e53b368b20",
   "metadata": {
    "ExecuteTime": {
     "end_time": "2023-11-28T11:43:47.206303740Z",
     "start_time": "2023-11-28T11:43:46.941803979Z"
    }
   },
   "outputs": [],
   "source": [
    "import matplotlib.pyplot as plt"
   ]
  },
  {
   "cell_type": "code",
   "execution_count": null,
   "id": "e26ff3a198efba39",
   "metadata": {
    "ExecuteTime": {
     "end_time": "2023-11-28T11:43:47.222983868Z",
     "start_time": "2023-11-28T11:43:47.210097310Z"
    }
   },
   "outputs": [],
   "source": [
    "import numpy as np\n",
    "\n",
    "def create_color(y):\n",
    "    return np.where(y == 0, \"#ff0000\", \"#0000ff\")"
   ]
  },
  {
   "cell_type": "code",
   "execution_count": null,
   "id": "a2a10ce1f2c0a871",
   "metadata": {
    "ExecuteTime": {
     "end_time": "2023-11-28T11:43:47.376854659Z",
     "start_time": "2023-11-28T11:43:47.215212417Z"
    }
   },
   "outputs": [],
   "source": [
    "plt.scatter(x[:, 0], x[:,1], color=create_color(y))"
   ]
  },
  {
   "cell_type": "markdown",
   "id": "84eb5dab0c4351d1",
   "metadata": {
    "collapsed": false
   },
   "source": [
    "### In Trainings- und Testset splitten"
   ]
  },
  {
   "cell_type": "code",
   "execution_count": null,
   "id": "51a20a7fcb9ea983",
   "metadata": {
    "ExecuteTime": {
     "end_time": "2023-11-28T11:43:47.382929316Z",
     "start_time": "2023-11-28T11:43:47.377733123Z"
    }
   },
   "outputs": [],
   "source": []
  },
  {
   "cell_type": "markdown",
   "id": "a831f9f1459dd6cc",
   "metadata": {
    "collapsed": false
   },
   "source": [
    "## Decision Tree fitten"
   ]
  },
  {
   "cell_type": "code",
   "execution_count": null,
   "id": "bf32a177cf37fe75",
   "metadata": {
    "ExecuteTime": {
     "end_time": "2023-11-28T11:43:47.383252681Z",
     "start_time": "2023-11-28T11:43:47.383076542Z"
    }
   },
   "outputs": [],
   "source": []
  },
  {
   "cell_type": "markdown",
   "id": "ce0b7b8701245b33",
   "metadata": {
    "collapsed": false
   },
   "source": [
    "### Fit qualitativ untersuchen"
   ]
  },
  {
   "cell_type": "code",
   "execution_count": null,
   "id": "41d961a77ab1338b",
   "metadata": {
    "ExecuteTime": {
     "end_time": "2023-11-28T11:43:47.387990226Z",
     "start_time": "2023-11-28T11:43:47.387241947Z"
    }
   },
   "outputs": [],
   "source": []
  },
  {
   "cell_type": "markdown",
   "id": "14265bb79f6fd096",
   "metadata": {
    "collapsed": false
   },
   "source": [
    "### Fit quantitativ untersuchen"
   ]
  },
  {
   "cell_type": "code",
   "execution_count": null,
   "id": "e6514aa2b0f0b266",
   "metadata": {
    "ExecuteTime": {
     "end_time": "2023-11-28T11:43:47.403876957Z",
     "start_time": "2023-11-28T11:43:47.392240069Z"
    }
   },
   "outputs": [],
   "source": []
  },
  {
   "cell_type": "markdown",
   "id": "5fc0fafc3ec01715",
   "metadata": {
    "collapsed": false
   },
   "source": [
    "### Modell untersuchen"
   ]
  },
  {
   "cell_type": "code",
   "execution_count": null,
   "id": "8252d3cb00a0f1ad",
   "metadata": {
    "ExecuteTime": {
     "start_time": "2023-11-28T11:43:47.433850120Z"
    }
   },
   "outputs": [],
   "source": []
  },
  {
   "cell_type": "markdown",
   "id": "66046cb756b57654",
   "metadata": {
    "collapsed": false
   },
   "source": [
    "## Einfluss der Modell-Komplexität untersuchen"
   ]
  },
  {
   "cell_type": "markdown",
   "id": "fabd6b380cb79ae3",
   "metadata": {
    "collapsed": false
   },
   "source": [
    "**Aufgabe:**\n",
    "\n",
    "Mit dem Parameter `max_depth` kann die Tiefe des Entscheidungsbaums begrenzt werden.\n",
    "\n",
    "1) Fitte einen Decision Tree mit `max_depth=2` und einen Decision Tree mit `max_depth=10`. Untersuche mit Hilfe eines Plots qualitativ, wie sich die Güte des Fits unterscheidet.\n"
   ]
  },
  {
   "cell_type": "code",
   "execution_count": null,
   "id": "63b23d05e07123d1",
   "metadata": {
    "ExecuteTime": {
     "end_time": "2023-11-28T11:43:47.483781132Z",
     "start_time": "2023-11-28T11:43:47.434010266Z"
    }
   },
   "outputs": [],
   "source": []
  },
  {
   "cell_type": "markdown",
   "id": "b6bc185a020964a2",
   "metadata": {
    "collapsed": false
   },
   "source": [
    "2) Fitte für jede mögliche Tiefe zwischen 1 und 16 einen Decision Tree (`for`-Schleife benutzen!) und errechne die Accuracy sowohl für das Test- als auch für das Trainings-Set."
   ]
  },
  {
   "cell_type": "code",
   "execution_count": null,
   "id": "419409f633af516d",
   "metadata": {
    "ExecuteTime": {
     "end_time": "2023-11-28T11:43:47.483979411Z",
     "start_time": "2023-11-28T11:43:47.434106367Z"
    }
   },
   "outputs": [],
   "source": []
  },
  {
   "cell_type": "markdown",
   "id": "e7455eaab47f829d",
   "metadata": {
    "collapsed": false
   },
   "source": [
    "3) Plotte die Accuracy für Trainings- und Testdaten über die maximale Baumtiefe"
   ]
  },
  {
   "cell_type": "code",
   "execution_count": null,
   "id": "2c8d8166f82321b2",
   "metadata": {
    "ExecuteTime": {
     "end_time": "2023-11-28T11:43:47.484065246Z",
     "start_time": "2023-11-28T11:43:47.434170202Z"
    }
   },
   "outputs": [],
   "source": []
  },
  {
   "cell_type": "markdown",
   "id": "4dc05826c9987afd",
   "metadata": {
    "collapsed": false
   },
   "source": [
    "4) Ermittle mit folgender Funktion die tatsächliche maximale Tiefe des Baums und füge diese dem Plot hinzu. (Ein Beispiel für einen Plot mit zwei Y-Achsen ist unten angefügt.)"
   ]
  },
  {
   "cell_type": "code",
   "execution_count": null,
   "id": "4bf01a5ebbaf364c",
   "metadata": {
    "ExecuteTime": {
     "end_time": "2023-11-28T11:43:47.484130129Z",
     "start_time": "2023-11-28T11:43:47.434238786Z"
    }
   },
   "outputs": [],
   "source": [
    "def get_max_depth(tree):\n",
    "    n_nodes = tree.tree_.node_count\n",
    "    node_depth = np.zeros(shape=n_nodes, dtype=int)\n",
    "    children_left = tree.tree_.children_left\n",
    "    children_right = tree.tree_.children_right\n",
    "    \n",
    "    stack = [(0, 0)]\n",
    "    while len(stack) > 0:\n",
    "        node_id, depth = stack.pop()\n",
    "        node_depth[node_id] = depth\n",
    "        is_split_node = children_left[node_id] != children_right[node_id]\n",
    "        if is_split_node:\n",
    "            stack.append((children_left[node_id], depth+1))\n",
    "            stack.append((children_right[node_id], depth+1))\n",
    "    \n",
    "    return np.max(node_depth)"
   ]
  },
  {
   "cell_type": "code",
   "execution_count": null,
   "id": "44824a1e5b6107c7",
   "metadata": {
    "ExecuteTime": {
     "end_time": "2023-11-28T11:43:47.717396651Z",
     "start_time": "2023-11-28T11:43:47.434301713Z"
    }
   },
   "outputs": [],
   "source": [
    "get_max_depth(model)"
   ]
  },
  {
   "cell_type": "code",
   "execution_count": null,
   "id": "476fd222b006fdf5",
   "metadata": {
    "ExecuteTime": {
     "end_time": "2023-11-28T11:43:47.720466525Z",
     "start_time": "2023-11-28T11:43:47.718780766Z"
    }
   },
   "outputs": [],
   "source": []
  },
  {
   "cell_type": "markdown",
   "id": "9d736d01d9d07d3f",
   "metadata": {
    "collapsed": false
   },
   "source": [
    "## Feature Importance"
   ]
  },
  {
   "cell_type": "code",
   "execution_count": null,
   "id": "f69bda14d2dc9fa5",
   "metadata": {
    "ExecuteTime": {
     "start_time": "2023-11-28T11:43:47.723188520Z"
    }
   },
   "outputs": [],
   "source": []
  }
 ],
 "metadata": {
  "kernelspec": {
   "display_name": "Python 3",
   "language": "python",
   "name": "python3"
  },
  "language_info": {
   "codemirror_mode": {
    "name": "ipython",
    "version": 2
   },
   "file_extension": ".py",
   "mimetype": "text/x-python",
   "name": "python",
   "nbconvert_exporter": "python",
   "pygments_lexer": "ipython2",
   "version": "2.7.6"
  }
 },
 "nbformat": 4,
 "nbformat_minor": 5
}
