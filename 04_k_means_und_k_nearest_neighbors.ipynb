{
 "cells": [
  {
   "cell_type": "markdown",
   "id": "4c39693b194b431a",
   "metadata": {
    "collapsed": false
   },
   "source": [
    "# Clustering mit K-Means und Klassifikation mit K-Nearest-Neighbors"
   ]
  },
  {
   "cell_type": "markdown",
   "id": "bc366e31ce147be3",
   "metadata": {
    "collapsed": false
   },
   "source": [
    "## Datensatz erzeugen"
   ]
  },
  {
   "cell_type": "code",
   "execution_count": null,
   "id": "52caed684ad403b3",
   "metadata": {
    "ExecuteTime": {
     "end_time": "2023-11-28T11:49:04.079840908Z",
     "start_time": "2023-11-28T11:49:03.493624706Z"
    }
   },
   "outputs": [],
   "source": [
    "import numpy as np\n",
    "from sklearn import datasets"
   ]
  },
  {
   "cell_type": "code",
   "execution_count": null,
   "id": "522da4303a476f28",
   "metadata": {
    "ExecuteTime": {
     "end_time": "2023-11-28T11:49:04.090125738Z",
     "start_time": "2023-11-28T11:49:04.083993043Z"
    }
   },
   "outputs": [],
   "source": [
    "_x, _y = datasets.make_blobs(n_samples=1000, centers=3, cluster_std=[2.0, 1.0, 3.0], random_state=17, shuffle=True)\n",
    "x = np.vstack((_x[_y==0], _x[_y==1][:100], _x[_y==2][:200]))\n",
    "y = [0] * len(_x[_y==0]) + [1] * 100 + [2] * 200"
   ]
  },
  {
   "cell_type": "markdown",
   "id": "ed3da292e98f2032",
   "metadata": {
    "collapsed": false
   },
   "source": [
    "### Daten visualisieren"
   ]
  },
  {
   "cell_type": "code",
   "execution_count": null,
   "id": "a5b9a7c58af3c908",
   "metadata": {
    "ExecuteTime": {
     "end_time": "2023-11-28T11:49:04.094472730Z",
     "start_time": "2023-11-28T11:49:04.089397922Z"
    }
   },
   "outputs": [],
   "source": []
  },
  {
   "cell_type": "markdown",
   "id": "a183d444b79bd094",
   "metadata": {
    "collapsed": false
   },
   "source": [
    "## Clustering"
   ]
  },
  {
   "cell_type": "code",
   "execution_count": null,
   "id": "5656ba3c0358aea8",
   "metadata": {
    "ExecuteTime": {
     "end_time": "2023-11-28T11:49:04.104443832Z",
     "start_time": "2023-11-28T11:49:04.093420641Z"
    }
   },
   "outputs": [],
   "source": []
  },
  {
   "cell_type": "markdown",
   "id": "3d04225955654f8b",
   "metadata": {
    "collapsed": false
   },
   "source": [
    "### Optimale Anzahl Cluster finden"
   ]
  },
  {
   "cell_type": "code",
   "execution_count": null,
   "id": "434fe0568402d702",
   "metadata": {
    "ExecuteTime": {
     "end_time": "2023-11-28T11:49:04.146868788Z",
     "start_time": "2023-11-28T11:49:04.099257697Z"
    }
   },
   "outputs": [],
   "source": [
    "_x, _y = datasets.make_blobs(n_samples=1000, centers=3, cluster_std=[1.0, 0.5, 2.0], random_state=17, shuffle=True)\n",
    "x = np.vstack((_x[_y==0], _x[_y==1][:100], _x[_y==2][:200]))\n",
    "y = [0] * len(_x[_y==0]) + [1] * 100 + [2] * 200"
   ]
  },
  {
   "cell_type": "code",
   "execution_count": null,
   "id": "99b61db992ffa6b6",
   "metadata": {
    "ExecuteTime": {
     "end_time": "2023-11-28T11:49:04.147128737Z",
     "start_time": "2023-11-28T11:49:04.141812697Z"
    }
   },
   "outputs": [],
   "source": [
    "possible_n_clusters = [2, 3, 4, 5]"
   ]
  },
  {
   "cell_type": "code",
   "execution_count": null,
   "id": "9f20e0341c6a30a6",
   "metadata": {
    "ExecuteTime": {
     "end_time": "2023-11-28T11:49:04.477165738Z",
     "start_time": "2023-11-28T11:49:04.141985065Z"
    }
   },
   "outputs": [],
   "source": [
    "from sklearn.metrics import silhouette_samples, silhouette_score\n",
    "import matplotlib.cm as cm\n",
    "\n",
    "for n_clusters in possible_n_clusters:\n",
    "    fig, (ax1, ax2) = plt.subplots(1, 2)\n",
    "    \n",
    "    ax1.set_xlim([-0.1, 1])\n",
    "    ax1.set_ylim([0, len(x) + (n_clusters + 1) * 10])\n",
    "    \n",
    "    model = KMeans(n_clusters=n_clusters, n_init=\"auto\")\n",
    "    model.fit(x)\n",
    "    \n",
    "    y_pred = model.predict(x)\n",
    "    \n",
    "    silhouette_avg = silhouette_score(x, y_pred)\n",
    "    sample_silhouette_values = silhouette_samples(x, y_pred)\n",
    "    \n",
    "    y_lower = 10\n",
    "    \n",
    "    for i in range(n_clusters):\n",
    "        ith_cluster_silhouette_values = sample_silhouette_values[y_pred == i]\n",
    "        ith_cluster_silhouette_values.sort()\n",
    "\n",
    "        size_cluster_i = ith_cluster_silhouette_values.shape[0]\n",
    "        y_upper = y_lower + size_cluster_i\n",
    "\n",
    "        color = cm.nipy_spectral(float(i) / n_clusters)\n",
    "        ax1.fill_betweenx(\n",
    "            np.arange(y_lower, y_upper),\n",
    "            0,\n",
    "            ith_cluster_silhouette_values,\n",
    "            facecolor=color,\n",
    "            edgecolor=color,\n",
    "            alpha=0.7,\n",
    "        )\n",
    "\n",
    "        ax1.text(-0.05, y_lower + 0.5 * size_cluster_i, str(i))\n",
    "        ax1.axvline(x=silhouette_avg, color=\"red\", linestyle=\"--\")\n",
    "        \n",
    "        \n",
    "        y_lower = y_upper + 10  # 10 for the 0 samples\n",
    "    \n",
    "    ax1.set_ylabel(\"Cluster\")\n",
    "    ax1.set_yticks([])\n",
    "    \n",
    "    colors = cm.nipy_spectral(y_pred.astype(float) / n_clusters)\n",
    "    ax2.scatter(\n",
    "        x[:, 0], x[:, 1], marker=\".\", s=30, lw=0, alpha=0.7, c=colors, edgecolor=\"k\"\n",
    "    )\n",
    "    \n",
    "    centers = model.cluster_centers_\n",
    "    ax2.scatter(centers[:,0], centers[:,1], marker=\"o\", c=\"black\", s=200)"
   ]
  },
  {
   "cell_type": "markdown",
   "id": "cd01b2d6fcbb984c",
   "metadata": {
    "collapsed": false
   },
   "source": [
    "**Aufgabe:** Verwende `KMeans`, um den Datensatz `x` zu clustern."
   ]
  },
  {
   "cell_type": "code",
   "execution_count": null,
   "id": "702fbed431f3dcdb",
   "metadata": {
    "ExecuteTime": {
     "end_time": "2023-11-28T11:49:14.439674642Z",
     "start_time": "2023-11-28T11:49:14.420407803Z"
    }
   },
   "outputs": [],
   "source": [
    "x = np.loadtxt(\"04_data.txt\")"
   ]
  },
  {
   "cell_type": "code",
   "execution_count": null,
   "id": "ab30e75e466a83cc",
   "metadata": {
    "ExecuteTime": {
     "end_time": "2023-11-28T11:49:14.620078621Z",
     "start_time": "2023-11-28T11:49:14.582731895Z"
    }
   },
   "outputs": [],
   "source": []
  },
  {
   "cell_type": "markdown",
   "id": "2e4f4986ede496b2",
   "metadata": {
    "collapsed": false
   },
   "source": [
    "## Klassifikation mit K-Nearest-Neighbors"
   ]
  },
  {
   "cell_type": "markdown",
   "id": "68b8b510fbbf3c32",
   "metadata": {
    "collapsed": false
   },
   "source": [
    "### Datenset laden"
   ]
  },
  {
   "cell_type": "code",
   "execution_count": null,
   "id": "initial_id",
   "metadata": {
    "ExecuteTime": {
     "end_time": "2023-11-28T11:49:15.004830201Z",
     "start_time": "2023-11-28T11:49:15.000565342Z"
    }
   },
   "outputs": [],
   "source": [
    "from sklearn.datasets import load_wine"
   ]
  },
  {
   "cell_type": "code",
   "execution_count": null,
   "id": "8d8206e428ab03a9",
   "metadata": {
    "ExecuteTime": {
     "end_time": "2023-11-28T11:49:15.384360934Z",
     "start_time": "2023-11-28T11:49:15.160214653Z"
    }
   },
   "outputs": [],
   "source": [
    "wine_data = load_wine(as_frame=True)"
   ]
  },
  {
   "cell_type": "code",
   "execution_count": null,
   "id": "57995f9728a6867c",
   "metadata": {
    "ExecuteTime": {
     "end_time": "2023-11-28T11:49:15.387500789Z",
     "start_time": "2023-11-28T11:49:15.385951569Z"
    }
   },
   "outputs": [],
   "source": []
  },
  {
   "cell_type": "markdown",
   "id": "b18628d87cd99560",
   "metadata": {
    "collapsed": false
   },
   "source": [
    "### Modell trainieren"
   ]
  },
  {
   "cell_type": "code",
   "execution_count": null,
   "id": "9cdbe4f1137b9cbb",
   "metadata": {
    "ExecuteTime": {
     "end_time": "2023-11-28T11:49:15.610867292Z",
     "start_time": "2023-11-28T11:49:15.600622552Z"
    }
   },
   "outputs": [],
   "source": []
  },
  {
   "cell_type": "markdown",
   "id": "d0a6d768e356c1cf",
   "metadata": {
    "collapsed": false
   },
   "source": [
    "### Modell quantitativ evaluieren\n",
    "\n",
    "**Aufgabe:** Berechne Accuracy, Precision, und Recall auf den Test- und Trainingsdaten"
   ]
  },
  {
   "cell_type": "code",
   "execution_count": null,
   "id": "594303f1e57d21fa",
   "metadata": {
    "ExecuteTime": {
     "end_time": "2023-11-28T11:49:15.946754479Z",
     "start_time": "2023-11-28T11:49:15.914009038Z"
    }
   },
   "outputs": [],
   "source": []
  },
  {
   "cell_type": "markdown",
   "id": "49e4c86bf8f8406e",
   "metadata": {
    "collapsed": false
   },
   "source": [
    "### Confusion-Matrix"
   ]
  },
  {
   "cell_type": "code",
   "execution_count": null,
   "id": "431bf4c5446c84ae",
   "metadata": {
    "ExecuteTime": {
     "end_time": "2023-11-28T11:49:16.268478061Z",
     "start_time": "2023-11-28T11:49:16.224892482Z"
    }
   },
   "outputs": [],
   "source": []
  },
  {
   "cell_type": "markdown",
   "id": "ced27c42582d3fd0",
   "metadata": {
    "collapsed": false
   },
   "source": [
    "### Modell visuell evaluieren"
   ]
  },
  {
   "cell_type": "code",
   "execution_count": null,
   "id": "2e0debd52cca24f3",
   "metadata": {
    "ExecuteTime": {
     "end_time": "2023-11-28T11:49:16.792541236Z",
     "start_time": "2023-11-28T11:49:16.548035239Z"
    }
   },
   "outputs": [],
   "source": [
    "import matplotlib.pyplot as plt"
   ]
  },
  {
   "cell_type": "code",
   "execution_count": null,
   "id": "a034e79cae869db5",
   "metadata": {
    "ExecuteTime": {
     "end_time": "2023-11-28T11:49:16.889080066Z",
     "start_time": "2023-11-28T11:49:16.787486472Z"
    }
   },
   "outputs": [],
   "source": [
    "from sklearn.inspection import DecisionBoundaryDisplay"
   ]
  },
  {
   "cell_type": "code",
   "execution_count": null,
   "id": "65ba493aa117d5e9",
   "metadata": {
    "ExecuteTime": {
     "end_time": "2023-11-28T11:49:23.278849979Z",
     "start_time": "2023-11-28T11:49:23.118714573Z"
    }
   },
   "outputs": [],
   "source": [
    "fig, ax = plt.subplots()\n",
    "disp = DecisionBoundaryDisplay.from_estimator(\n",
    "    model,\n",
    "    x_test,\n",
    "    response_method=\"predict\",\n",
    "    alpha=0.5,\n",
    "    ax=ax,\n",
    ")"
   ]
  },
  {
   "cell_type": "code",
   "execution_count": null,
   "id": "f7e132d18b08b869",
   "metadata": {
    "ExecuteTime": {
     "start_time": "2023-11-28T11:49:17.050710145Z"
    }
   },
   "outputs": [],
   "source": []
  },
  {
   "cell_type": "markdown",
   "id": "2a39014037b361a9",
   "metadata": {
    "collapsed": false
   },
   "source": [
    "### Skalierung von Features"
   ]
  },
  {
   "cell_type": "code",
   "execution_count": null,
   "id": "d36a79fd1c11e8fb",
   "metadata": {
    "ExecuteTime": {
     "end_time": "2023-11-28T11:49:17.778927112Z",
     "start_time": "2023-11-28T11:49:17.761679315Z"
    }
   },
   "outputs": [],
   "source": []
  },
  {
   "cell_type": "markdown",
   "id": "5f4fd81a5dd50fe0",
   "metadata": {
    "collapsed": false
   },
   "source": [
    "### Modell auf skaliertem Datensatz trainieren\n",
    "\n",
    "**Aufgabe:**\n",
    "\n",
    "1) KNeighborsClassifier auf skaliertem Trainings-Set trainieren"
   ]
  },
  {
   "cell_type": "code",
   "execution_count": null,
   "id": "1525603f09ddbd07",
   "metadata": {
    "ExecuteTime": {
     "end_time": "2023-11-28T11:49:18.111028481Z",
     "start_time": "2023-11-28T11:49:18.074272124Z"
    }
   },
   "outputs": [],
   "source": []
  },
  {
   "cell_type": "markdown",
   "id": "9510126acf78e39b",
   "metadata": {
    "collapsed": false
   },
   "source": [
    "2) DecisionBoundaryDisplay-Plot auf dem skalierten Test-Set erstellen"
   ]
  },
  {
   "cell_type": "code",
   "execution_count": null,
   "id": "c7c015f24d5f29ce",
   "metadata": {
    "ExecuteTime": {
     "end_time": "2023-11-28T11:49:18.405793322Z",
     "start_time": "2023-11-28T11:49:18.370640941Z"
    }
   },
   "outputs": [],
   "source": []
  },
  {
   "cell_type": "markdown",
   "id": "366075a0f742c6c4",
   "metadata": {
    "collapsed": false
   },
   "source": [
    "3) Confusion-Matrix für das skalierte Test-Set errechnen"
   ]
  },
  {
   "cell_type": "code",
   "execution_count": null,
   "id": "da6ed0271b516274",
   "metadata": {
    "ExecuteTime": {
     "end_time": "2023-11-28T11:49:18.747424606Z",
     "start_time": "2023-11-28T11:49:18.689200921Z"
    }
   },
   "outputs": [],
   "source": []
  },
  {
   "cell_type": "code",
   "execution_count": null,
   "id": "15ed7b959d98d4a4",
   "metadata": {},
   "outputs": [],
   "source": []
  }
 ],
 "metadata": {
  "kernelspec": {
   "display_name": "Python 3",
   "language": "python",
   "name": "python3"
  },
  "language_info": {
   "codemirror_mode": {
    "name": "ipython",
    "version": 2
   },
   "file_extension": ".py",
   "mimetype": "text/x-python",
   "name": "python",
   "nbconvert_exporter": "python",
   "pygments_lexer": "ipython2",
   "version": "2.7.6"
  }
 },
 "nbformat": 4,
 "nbformat_minor": 5
}
