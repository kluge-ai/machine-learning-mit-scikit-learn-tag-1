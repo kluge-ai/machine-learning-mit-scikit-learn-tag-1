{
 "cells": [
  {
   "cell_type": "markdown",
   "id": "5e498a5513722919",
   "metadata": {
    "collapsed": false
   },
   "source": [
    "# Projekt 1: Klassifikation mit Logistischer Regression"
   ]
  },
  {
   "cell_type": "markdown",
   "id": "c44d4c9756bd41b8",
   "metadata": {
    "collapsed": false
   },
   "source": [
    "## Daten laden und vorbereiten"
   ]
  },
  {
   "cell_type": "code",
   "execution_count": null,
   "id": "49a10b6abf3c5bb9",
   "metadata": {
    "ExecuteTime": {
     "end_time": "2023-11-28T11:51:20.170047354Z",
     "start_time": "2023-11-28T11:51:19.745608115Z"
    }
   },
   "outputs": [],
   "source": [
    "from sklearn import datasets"
   ]
  },
  {
   "cell_type": "code",
   "execution_count": null,
   "id": "efc52e6a6cdb80d9",
   "metadata": {
    "ExecuteTime": {
     "end_time": "2023-11-28T11:51:20.181939720Z",
     "start_time": "2023-11-28T11:51:20.176347039Z"
    }
   },
   "outputs": [],
   "source": [
    "iris = datasets.load_iris()"
   ]
  },
  {
   "cell_type": "code",
   "execution_count": null,
   "id": "aa7adccd8e49c5e8",
   "metadata": {
    "ExecuteTime": {
     "end_time": "2023-11-28T11:51:20.204609646Z",
     "start_time": "2023-11-28T11:51:20.182882019Z"
    }
   },
   "outputs": [],
   "source": [
    "iris.target_names"
   ]
  },
  {
   "cell_type": "code",
   "execution_count": null,
   "id": "e4c8d6ddf53dddda",
   "metadata": {
    "ExecuteTime": {
     "end_time": "2023-11-28T11:51:20.245616543Z",
     "start_time": "2023-11-28T11:51:20.197943644Z"
    }
   },
   "outputs": [],
   "source": [
    "import numpy as np\n",
    "rng = np.random.default_rng(seed=17)"
   ]
  },
  {
   "cell_type": "code",
   "execution_count": null,
   "id": "35a4bd6141c6cfa7",
   "metadata": {
    "ExecuteTime": {
     "end_time": "2023-11-28T11:51:20.245839896Z",
     "start_time": "2023-11-28T11:51:20.241794828Z"
    }
   },
   "outputs": [],
   "source": [
    "x = iris.data + 2 * (0.5 - rng.random(iris.data.shape))\n",
    "y = iris.target"
   ]
  },
  {
   "cell_type": "markdown",
   "id": "affe92890d86017",
   "metadata": {
    "collapsed": false
   },
   "source": [
    "Aufgabe 1: Mit dem Datensatz vertraut machen"
   ]
  },
  {
   "cell_type": "code",
   "execution_count": null,
   "id": "3a0e9b6f23db4706",
   "metadata": {
    "ExecuteTime": {
     "end_time": "2023-11-28T11:51:20.245935159Z",
     "start_time": "2023-11-28T11:51:20.241912999Z"
    }
   },
   "outputs": [],
   "source": []
  },
  {
   "cell_type": "markdown",
   "id": "32c45c86a5817882",
   "metadata": {
    "collapsed": false
   },
   "source": [
    "Aufgabe 2: Datensatz in Trainings- und Testdaten splitten\n",
    "\n",
    "Benutze `train_test_split` mit den Argumenten `train_size=0.7` und `stratify=y`.\n",
    "\n",
    "Wofür genau sorgt `stratify`?\n",
    "\n",
    "Tipp: Mit der Funktion `np.unique(y_train, return_counts=True)` kannst du untersuchen, wie oft welche Klasse im Trainingsdatensatz vorkommt. Wie verändert sich dieser Wert, je nachdem, ob `stratify` gesetzt wurde? Warum ist das wichtig? "
   ]
  },
  {
   "cell_type": "code",
   "execution_count": null,
   "id": "d9c2d0dd7cfdbffa",
   "metadata": {
    "ExecuteTime": {
     "end_time": "2023-11-28T11:51:20.246009680Z",
     "start_time": "2023-11-28T11:51:20.241983259Z"
    }
   },
   "outputs": [],
   "source": []
  },
  {
   "cell_type": "markdown",
   "id": "5c0fafec1649f32e",
   "metadata": {
    "collapsed": false
   },
   "source": [
    "## Modell trainieren\n",
    "\n",
    "Aufgabe 3: Eine logistische Regression fitten"
   ]
  },
  {
   "cell_type": "code",
   "execution_count": null,
   "id": "9357d31bc92820cf",
   "metadata": {
    "ExecuteTime": {
     "end_time": "2023-11-28T11:51:20.246074562Z",
     "start_time": "2023-11-28T11:51:20.242047374Z"
    }
   },
   "outputs": [],
   "source": []
  },
  {
   "cell_type": "markdown",
   "id": "5fa7b05b848d4193",
   "metadata": {
    "collapsed": false
   },
   "source": [
    "## Fit untersuchen: Precision-Recall-Kurve"
   ]
  },
  {
   "cell_type": "markdown",
   "id": "bc41fa07d1a69655",
   "metadata": {
    "collapsed": false
   },
   "source": [
    "Aufgabe 4: Vergleiche den Output von `model.predict(x_test)` mit `model.predict_proba(x_test)`. Was ist der Unterschied?"
   ]
  },
  {
   "cell_type": "code",
   "execution_count": null,
   "id": "359429c33ba28812",
   "metadata": {
    "ExecuteTime": {
     "end_time": "2023-11-28T11:51:20.246141331Z",
     "start_time": "2023-11-28T11:51:20.242109393Z"
    }
   },
   "outputs": [],
   "source": []
  },
  {
   "cell_type": "markdown",
   "id": "11a1a1b608854e9b",
   "metadata": {
    "collapsed": false
   },
   "source": [
    "Aufgabe 5: Benutze den `LabelBinarizer`, um `y_test` in die gleiche Struktur wie den Output von `model.predict_proba()` zu bringen.\n",
    "\n",
    "Dazu:\n",
    "- Importiere `LabelBinarizer` aus `sklearn.preprocessing`\n",
    "- Instantiiere einen `LabelBinarizer`\n",
    "- Fitte diese Instanz auf `y_train`\n",
    "- Transformiere `y_test` zu `y_test_onehot`\n",
    "\n",
    "Vergleiche `y_test` und `y_test_onehot`. Was genau hat der `LabelBinarizer` gemacht?"
   ]
  },
  {
   "cell_type": "code",
   "execution_count": null,
   "id": "9e9d95af1961198b",
   "metadata": {
    "ExecuteTime": {
     "end_time": "2023-11-28T11:51:20.246198531Z",
     "start_time": "2023-11-28T11:51:20.242197602Z"
    }
   },
   "outputs": [],
   "source": []
  },
  {
   "cell_type": "markdown",
   "id": "d2117dbcb07f19ae",
   "metadata": {
    "collapsed": false
   },
   "source": [
    "Aufgabe 6: Plotte eine Precision-Recall-Kurve für jede Klasse\n",
    "\n",
    "Dazu:\n",
    "- Importiere `PrecisionRecallDisplay` aus `sklearn.metrics`\n",
    "- Verwende `PrecisionRecallDisplay.from_predictions(Y_true, Y_predicted)`, um eine Kurve zu zeichnen. Für `Y_true` muss dafür die richtige Spalte aus `y_test_onehot`, für `Y_predicted` die mit `model.predict_proba()` erzeugte Vorhersage für die Klasse angegeben werden.\n",
    "- Was lässt sich aus den Kurven ablesen?\n",
    "- Wie würde wohl eine Confusion-Matrix aussehen? "
   ]
  },
  {
   "cell_type": "code",
   "execution_count": null,
   "id": "bb438026b5b790eb",
   "metadata": {
    "ExecuteTime": {
     "start_time": "2023-11-28T11:51:20.285602221Z"
    }
   },
   "outputs": [],
   "source": []
  },
  {
   "cell_type": "markdown",
   "id": "2cb6abebf26f776e",
   "metadata": {
    "collapsed": false
   },
   "source": [
    "## Fit untersuchen\n",
    "\n",
    "Aufgabe 7: Plotte eine Confusion-Matrix"
   ]
  },
  {
   "cell_type": "code",
   "execution_count": null,
   "id": "2b3d0153d3bc8bab",
   "metadata": {
    "ExecuteTime": {
     "end_time": "2023-11-28T11:51:20.286865860Z",
     "start_time": "2023-11-28T11:51:20.285714456Z"
    }
   },
   "outputs": [],
   "source": []
  }
 ],
 "metadata": {
  "kernelspec": {
   "display_name": "Python 3",
   "language": "python",
   "name": "python3"
  },
  "language_info": {
   "codemirror_mode": {
    "name": "ipython",
    "version": 2
   },
   "file_extension": ".py",
   "mimetype": "text/x-python",
   "name": "python",
   "nbconvert_exporter": "python",
   "pygments_lexer": "ipython2",
   "version": "2.7.6"
  }
 },
 "nbformat": 4,
 "nbformat_minor": 5
}
