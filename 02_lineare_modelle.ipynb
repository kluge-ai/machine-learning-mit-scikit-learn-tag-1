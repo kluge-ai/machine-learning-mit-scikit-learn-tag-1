{
 "cells": [
  {
   "cell_type": "markdown",
   "id": "d03236689b345c28",
   "metadata": {
    "collapsed": false
   },
   "source": [
    "# Lineare Modelle"
   ]
  },
  {
   "cell_type": "markdown",
   "id": "b4c32920866db0f7",
   "metadata": {
    "collapsed": false
   },
   "source": [
    "## Lineare Regression mit einem Feature"
   ]
  },
  {
   "cell_type": "markdown",
   "id": "547b36d832cb1f61",
   "metadata": {
    "collapsed": false
   },
   "source": [
    "### Datensatz erzeugen"
   ]
  },
  {
   "cell_type": "code",
   "execution_count": null,
   "id": "284da5ac09fc9251",
   "metadata": {
    "ExecuteTime": {
     "end_time": "2023-11-28T11:40:04.748547919Z",
     "start_time": "2023-11-28T11:40:04.131817341Z"
    }
   },
   "outputs": [],
   "source": [
    "from sklearn.datasets import make_regression"
   ]
  },
  {
   "cell_type": "code",
   "execution_count": null,
   "id": "b413d23a5709c688",
   "metadata": {
    "ExecuteTime": {
     "end_time": "2023-11-28T11:40:04.762397450Z",
     "start_time": "2023-11-28T11:40:04.585887937Z"
    }
   },
   "outputs": [],
   "source": [
    "x, y = make_regression(n_samples=200, n_features=1, noise=15)"
   ]
  },
  {
   "cell_type": "markdown",
   "id": "187088036887347a",
   "metadata": {
    "collapsed": false
   },
   "source": [
    "### Datensatz explorieren"
   ]
  },
  {
   "cell_type": "code",
   "execution_count": null,
   "id": "40fb752db3cceb3",
   "metadata": {
    "ExecuteTime": {
     "end_time": "2023-11-28T11:40:04.762629603Z",
     "start_time": "2023-11-28T11:40:04.586054509Z"
    }
   },
   "outputs": [],
   "source": []
  },
  {
   "cell_type": "markdown",
   "id": "4b1043cbd134d788",
   "metadata": {
    "collapsed": false
   },
   "source": [
    "### Trainings- und Testdaten splitten"
   ]
  },
  {
   "cell_type": "code",
   "execution_count": null,
   "id": "9afcc7cee47c5500",
   "metadata": {
    "ExecuteTime": {
     "end_time": "2023-11-28T11:40:04.762732898Z",
     "start_time": "2023-11-28T11:40:04.586137899Z"
    }
   },
   "outputs": [],
   "source": []
  },
  {
   "cell_type": "markdown",
   "id": "a07bba86235d7529",
   "metadata": {
    "collapsed": false
   },
   "source": [
    "### Lineares Modell fitten"
   ]
  },
  {
   "cell_type": "code",
   "execution_count": null,
   "id": "33f159ab7884a6f5",
   "metadata": {
    "ExecuteTime": {
     "end_time": "2023-11-28T11:40:04.762813425Z",
     "start_time": "2023-11-28T11:40:04.586219544Z"
    }
   },
   "outputs": [],
   "source": []
  },
  {
   "cell_type": "markdown",
   "id": "6389142631053047",
   "metadata": {
    "collapsed": false
   },
   "source": [
    "### Fit qualitativ untersuchen"
   ]
  },
  {
   "cell_type": "code",
   "execution_count": null,
   "id": "2d581a6acf09c16e",
   "metadata": {
    "ExecuteTime": {
     "end_time": "2023-11-28T11:40:04.762905336Z",
     "start_time": "2023-11-28T11:40:04.586299163Z"
    }
   },
   "outputs": [],
   "source": []
  },
  {
   "cell_type": "markdown",
   "id": "9aa823507ae55568",
   "metadata": {
    "collapsed": false
   },
   "source": [
    "### Fit quantitativ untersuchen"
   ]
  },
  {
   "cell_type": "markdown",
   "id": "56e622d18bf5cf9d",
   "metadata": {
    "collapsed": false
   },
   "source": [
    "Mean Squared Error: $\\text{MSE}(y, \\hat{y}) = \\frac{1}{n} \\sum_{i=1}^n (y_i - \\hat{y}_i)^2.$"
   ]
  },
  {
   "cell_type": "markdown",
   "id": "415eba9d9449352",
   "metadata": {
    "collapsed": false
   },
   "source": [
    "Determinationskoffizient: $R^2(y, \\hat{y}) = 1 - \\frac{\\sum_{i=1}^{n} (y_i - \\hat{y}_i)^2}{\\sum_{i=1}^{n} (y_i - \\bar{y})^2}$"
   ]
  },
  {
   "cell_type": "code",
   "execution_count": null,
   "id": "bf5332f933a9c6e7",
   "metadata": {
    "ExecuteTime": {
     "end_time": "2023-11-28T11:40:04.762988867Z",
     "start_time": "2023-11-28T11:40:04.586379410Z"
    }
   },
   "outputs": [],
   "source": []
  },
  {
   "cell_type": "markdown",
   "id": "282a80008e4a571f",
   "metadata": {
    "collapsed": false
   },
   "source": [
    "## Lineare Regression mit mehreren Features"
   ]
  },
  {
   "cell_type": "code",
   "execution_count": null,
   "id": "f76b955b39068bc1",
   "metadata": {
    "ExecuteTime": {
     "end_time": "2023-11-28T11:40:04.763101870Z",
     "start_time": "2023-11-28T11:40:04.586561836Z"
    }
   },
   "outputs": [],
   "source": [
    "x, y = make_regression(n_samples=200, n_features=5, noise=15)"
   ]
  },
  {
   "cell_type": "markdown",
   "id": "da58fb5a51bad1d0",
   "metadata": {
    "collapsed": false
   },
   "source": [
    "**Aufgabe:**\n",
    "\n",
    "1) Lineare Regression an die Daten fitten\n",
    "2) Koeffizienten ansehen\n",
    "3) Quantitativ die Güte des Fits für die Trainings- und die Testdaten prüfen"
   ]
  },
  {
   "cell_type": "code",
   "execution_count": null,
   "id": "1f1cc172e7b5628c",
   "metadata": {
    "ExecuteTime": {
     "end_time": "2023-11-28T11:40:04.763182676Z",
     "start_time": "2023-11-28T11:40:04.586689715Z"
    }
   },
   "outputs": [],
   "source": []
  },
  {
   "cell_type": "markdown",
   "id": "cfa1b4d2de648e4",
   "metadata": {
    "collapsed": false
   },
   "source": [
    "## Lineare Regression mit polynomialen Features"
   ]
  },
  {
   "cell_type": "code",
   "execution_count": null,
   "id": "cc52478f8e94cbaa",
   "metadata": {
    "ExecuteTime": {
     "end_time": "2023-11-28T11:40:04.763270816Z",
     "start_time": "2023-11-28T11:40:04.586820668Z"
    }
   },
   "outputs": [],
   "source": [
    "import numpy as np"
   ]
  },
  {
   "cell_type": "code",
   "execution_count": null,
   "id": "7ebc0509255a86fa",
   "metadata": {
    "ExecuteTime": {
     "end_time": "2023-11-28T11:40:04.763349876Z",
     "start_time": "2023-11-28T11:40:04.586946382Z"
    }
   },
   "outputs": [],
   "source": [
    "rng = np.random.default_rng()"
   ]
  },
  {
   "cell_type": "code",
   "execution_count": null,
   "id": "2f89acae2da0eb11",
   "metadata": {
    "ExecuteTime": {
     "end_time": "2023-11-28T11:40:04.763421254Z",
     "start_time": "2023-11-28T11:40:04.588609723Z"
    }
   },
   "outputs": [],
   "source": [
    "x1 = np.arange(-1, 2, 0.05)\n",
    "x2 = np.arange(-1, 2, 0.05)\n",
    "plot_x, plot_y = np.meshgrid(x1, x2)"
   ]
  },
  {
   "cell_type": "code",
   "execution_count": null,
   "id": "9147932b377c0919",
   "metadata": {
    "ExecuteTime": {
     "end_time": "2023-11-28T11:40:04.763496543Z",
     "start_time": "2023-11-28T11:40:04.593862068Z"
    }
   },
   "outputs": [],
   "source": [
    "noise = 0.2\n",
    "plot_z = (plot_x + plot_y + noise * (rng.random(plot_x.shape[0]) - 0.5))**2 "
   ]
  },
  {
   "cell_type": "code",
   "execution_count": null,
   "id": "7303f33e00726f58",
   "metadata": {
    "ExecuteTime": {
     "end_time": "2023-11-28T11:40:04.763847146Z",
     "start_time": "2023-11-28T11:40:04.599746478Z"
    }
   },
   "outputs": [],
   "source": [
    "plot_z.shape"
   ]
  },
  {
   "cell_type": "code",
   "execution_count": null,
   "id": "3efc7d3885c17e9e",
   "metadata": {
    "ExecuteTime": {
     "end_time": "2023-11-28T11:40:04.766305211Z",
     "start_time": "2023-11-28T11:40:04.605117274Z"
    }
   },
   "outputs": [],
   "source": [
    "import matplotlib.pyplot as plt\n",
    "from matplotlib import cm\n",
    "fig, ax = plt.subplots(subplot_kw={\"projection\": \"3d\"})\n",
    "ax.plot_surface(plot_x, plot_y, plot_z, vmin=plot_z.min() * 2, cmap=cm.Blues)\n",
    "plt.show()"
   ]
  },
  {
   "cell_type": "markdown",
   "id": "b3bfdb6373e1a3d3",
   "metadata": {
    "collapsed": false
   },
   "source": [
    "### Datensatz erstellen"
   ]
  },
  {
   "cell_type": "code",
   "execution_count": null,
   "id": "9ec68701dbb19f49",
   "metadata": {
    "ExecuteTime": {
     "end_time": "2023-11-28T11:40:04.928130450Z",
     "start_time": "2023-11-28T11:40:04.759323385Z"
    }
   },
   "outputs": [],
   "source": [
    "x = 5 * (rng.random((1000, 2)) - 0.5)\n",
    "y = (x[:,0] + x[:,1] + noise * (rng.random(x.shape[0]) - 0.5))**2"
   ]
  },
  {
   "cell_type": "code",
   "execution_count": null,
   "id": "2fd0342348ef4750",
   "metadata": {
    "ExecuteTime": {
     "end_time": "2023-11-28T11:40:05.034681953Z",
     "start_time": "2023-11-28T11:40:04.845686979Z"
    }
   },
   "outputs": [],
   "source": [
    "plt.scatter(x[:,0], y)\n",
    "plt.xlabel(\"$x_1$\")\n",
    "plt.ylabel(\"target\")\n",
    "plt.legend()"
   ]
  },
  {
   "cell_type": "code",
   "execution_count": null,
   "id": "b0e1911b750b1fad",
   "metadata": {
    "ExecuteTime": {
     "end_time": "2023-11-28T11:40:05.256533629Z",
     "start_time": "2023-11-28T11:40:05.017745506Z"
    }
   },
   "outputs": [],
   "source": [
    "plt.scatter(x[:,1], y)\n",
    "plt.xlabel(\"$x_2$\")\n",
    "plt.ylabel(\"target\")\n",
    "plt.legend()"
   ]
  },
  {
   "cell_type": "markdown",
   "id": "278f91e83e434140",
   "metadata": {
    "collapsed": false
   },
   "source": [
    "### Lineares Modell fitten\n",
    "\n",
    "**Aufgabe:**\n",
    "\n",
    "1) Datensatz in Trainings- und Testdaten unterteilen (80:20-Split)"
   ]
  },
  {
   "cell_type": "code",
   "execution_count": null,
   "id": "1ab7106b1ed9b1c3",
   "metadata": {
    "ExecuteTime": {
     "end_time": "2023-11-28T11:40:05.256787851Z",
     "start_time": "2023-11-28T11:40:05.205945336Z"
    }
   },
   "outputs": [],
   "source": []
  },
  {
   "cell_type": "markdown",
   "id": "f5c8d77690a7d6e2",
   "metadata": {
    "collapsed": false
   },
   "source": [
    "2) Lineare Regression an die Daten fitten"
   ]
  },
  {
   "cell_type": "code",
   "execution_count": null,
   "id": "c95f57339e29f4ad",
   "metadata": {
    "ExecuteTime": {
     "end_time": "2023-11-28T11:40:05.256895337Z",
     "start_time": "2023-11-28T11:40:05.206189292Z"
    }
   },
   "outputs": [],
   "source": []
  },
  {
   "cell_type": "markdown",
   "id": "de2963904a7eeab2",
   "metadata": {
    "collapsed": false
   },
   "source": [
    "3) Vorhersage für die Testdaten mit den realen Testdaten vergleichen (je ein Plot pro Dimension)"
   ]
  },
  {
   "cell_type": "code",
   "execution_count": null,
   "id": "df116521bfde8984",
   "metadata": {
    "ExecuteTime": {
     "end_time": "2023-11-28T11:40:05.256972163Z",
     "start_time": "2023-11-28T11:40:05.206347063Z"
    }
   },
   "outputs": [],
   "source": []
  },
  {
   "cell_type": "markdown",
   "id": "39b6cb67a3c22693",
   "metadata": {
    "collapsed": false
   },
   "source": [
    "4) Was lässt sich anhand der Plots erkennen?"
   ]
  },
  {
   "cell_type": "code",
   "execution_count": null,
   "id": "9777509017d458f5",
   "metadata": {
    "ExecuteTime": {
     "end_time": "2023-11-28T11:40:05.257040747Z",
     "start_time": "2023-11-28T11:40:05.206456086Z"
    }
   },
   "outputs": [],
   "source": []
  },
  {
   "cell_type": "markdown",
   "id": "c8a50a4c7da2e996",
   "metadata": {
    "collapsed": false
   },
   "source": [
    "### Polynomiale Features erzeugen"
   ]
  },
  {
   "cell_type": "markdown",
   "id": "a7046a517a3ba0c7",
   "metadata": {
    "collapsed": false
   },
   "source": [
    "Transformation: $(x_1, x_2) \\rightarrow (1, x_1, x_2, x_1^2, x_1 x_2, x_2^2)$"
   ]
  },
  {
   "cell_type": "code",
   "execution_count": null,
   "id": "e1e836a446a6fd7a",
   "metadata": {
    "ExecuteTime": {
     "end_time": "2023-11-28T11:40:05.257109331Z",
     "start_time": "2023-11-28T11:40:05.206551908Z"
    }
   },
   "outputs": [],
   "source": []
  },
  {
   "cell_type": "code",
   "execution_count": null,
   "id": "266cb8fd44690afa",
   "metadata": {
    "ExecuteTime": {
     "end_time": "2023-11-28T11:40:05.257178893Z",
     "start_time": "2023-11-28T11:40:05.206686283Z"
    }
   },
   "outputs": [],
   "source": []
  },
  {
   "cell_type": "markdown",
   "id": "b471873254c9250e",
   "metadata": {
    "collapsed": false
   },
   "source": [
    "### Lineares Modell fitten"
   ]
  },
  {
   "cell_type": "code",
   "execution_count": null,
   "id": "97db25b58398007e",
   "metadata": {
    "ExecuteTime": {
     "end_time": "2023-11-28T11:40:05.257248106Z",
     "start_time": "2023-11-28T11:40:05.206889311Z"
    }
   },
   "outputs": [],
   "source": []
  },
  {
   "cell_type": "markdown",
   "id": "b9b2038fa093e1cf",
   "metadata": {
    "collapsed": false
   },
   "source": [
    "Erinnerung: $(x_1 + x_2)^2 = x_1^2 + 2 x_1 x_2 + x_2^2$"
   ]
  },
  {
   "cell_type": "markdown",
   "id": "5fc20bf845b6c69f",
   "metadata": {
    "collapsed": false
   },
   "source": [
    "### Fit qualitativ untersuchen"
   ]
  },
  {
   "cell_type": "code",
   "execution_count": null,
   "id": "9a1cf78f2e9c38d7",
   "metadata": {
    "ExecuteTime": {
     "end_time": "2023-11-28T11:40:05.257317318Z",
     "start_time": "2023-11-28T11:40:05.206957197Z"
    }
   },
   "outputs": [],
   "source": []
  },
  {
   "cell_type": "markdown",
   "id": "e9c9cdfb219babe0",
   "metadata": {
    "collapsed": false
   },
   "source": [
    "### Fits quantitativ untersuchen"
   ]
  },
  {
   "cell_type": "markdown",
   "id": "bbd3d3f963c1bcce",
   "metadata": {
    "collapsed": false
   },
   "source": [
    "**Aufgabe:**\n",
    "\n",
    "Für das Modell ohne und das Modell mit polynomialen Features jeweils den MSE und $R^2$ berechnen.\n"
   ]
  },
  {
   "cell_type": "code",
   "execution_count": null,
   "id": "23fc3571e7955ce6",
   "metadata": {
    "ExecuteTime": {
     "end_time": "2023-11-28T11:40:05.257384366Z",
     "start_time": "2023-11-28T11:40:05.207008042Z"
    }
   },
   "outputs": [],
   "source": []
  },
  {
   "cell_type": "code",
   "execution_count": null,
   "id": "95cdbe653d430b3d",
   "metadata": {
    "ExecuteTime": {
     "end_time": "2023-11-28T11:40:05.257483331Z",
     "start_time": "2023-11-28T11:40:05.207058677Z"
    }
   },
   "outputs": [],
   "source": []
  },
  {
   "cell_type": "markdown",
   "id": "fd33800762cc5283",
   "metadata": {
    "collapsed": false
   },
   "source": [
    "### Vorhersage-Funktion erstellen\n",
    "\n",
    "**Aufgabe:** Erstelle eine Funktion, die einen zwei-dimensionalen Eingabewert ($x_1$ und $x_2$) nimmt und mit Hilfe des Modells mit polynomialen Features eine Vorhersage für $y$ zurückgibt.\n",
    "\n",
    "*Beispiel:* `predict(np.array([[2,2]]))` $\\approx$ 16"
   ]
  },
  {
   "cell_type": "code",
   "execution_count": null,
   "id": "91d120ceaeb39885",
   "metadata": {
    "ExecuteTime": {
     "end_time": "2023-11-29T10:48:27.608487637Z",
     "start_time": "2023-11-29T10:48:27.607806754Z"
    }
   },
   "outputs": [],
   "source": [
    "def predict(x):\n",
    "    ..."
   ]
  },
  {
   "cell_type": "code",
   "execution_count": null,
   "id": "d3f2e697b25a8b17",
   "metadata": {
    "ExecuteTime": {
     "end_time": "2023-11-29T10:48:36.286989479Z",
     "start_time": "2023-11-29T10:48:36.055980800Z"
    }
   },
   "outputs": [],
   "source": [
    "predict(np.array([[2, 2]]))"
   ]
  },
  {
   "cell_type": "code",
   "execution_count": null,
   "id": "f64a06a40538d4",
   "metadata": {
    "ExecuteTime": {
     "end_time": "2023-11-28T11:40:05.306151477Z",
     "start_time": "2023-11-28T11:40:05.222076862Z"
    }
   },
   "outputs": [],
   "source": []
  }
 ],
 "metadata": {
  "kernelspec": {
   "display_name": "Python 3",
   "language": "python",
   "name": "python3"
  },
  "language_info": {
   "codemirror_mode": {
    "name": "ipython",
    "version": 2
   },
   "file_extension": ".py",
   "mimetype": "text/x-python",
   "name": "python",
   "nbconvert_exporter": "python",
   "pygments_lexer": "ipython2",
   "version": "2.7.6"
  }
 },
 "nbformat": 4,
 "nbformat_minor": 5
}
